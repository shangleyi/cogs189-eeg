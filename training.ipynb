{
 "cells": [
  {
   "cell_type": "code",
   "execution_count": 22,
   "metadata": {},
   "outputs": [
    {
     "name": "stdout",
     "output_type": "stream",
     "text": [
      "[7, 4, 30, 26, 30, 22, 8, 26, 7, 7, 30, 22, 30, 25, 26, 22, 26, 22, 26, 22, 26, 7, 22, 30, 30, 30, 30, 4, 16, 30, 9, 26, 24, 26, 26, 3, 30, 26, 26, 22, 7, 25, 24, 7, 30, 21, 30, 26, 26, 30, 7, 26, 30, 30, 25, 15, 30, 30, 7, 2, 22, 30, 22, 26, 26, 8, 30, 26, 1, 26, 3, 4, 30, 7, 18, 30, 30, 30, 30, 30, 30, 2, 30, 7, 22, 30, 26, 22, 11, 30, 26, 26, 26, 30, 22, 30, 30, 26, 30, 30, 7, 30, 17, 7, 26, 26]\n",
      "[7, 4, 30, 26, 30, 22, 8, 26, 7, 7, 30, 22, 30, 25, 26, 26, 26, 26, 26, 7, 26, 7, 22, 30, 30, 30, 30, 4, 16, 30, 9, 26, 24, 22, 26, 3, 30, 26, 26, 26, 7, 25, 24, 7, 30, 21, 30, 26, 26, 30, 7, 26, 30, 30, 25, 15, 30, 30, 7, 2, 22, 30, 22, 26, 26, 8, 30, 26, 1, 26, 3, 4, 30, 7, 18, 30, 30, 30, 30, 30, 30, 2, 30, 7, 22, 30, 26, 22, 11, 30, 26, 26, 26, 30, 22, 30, 30, 26, 30, 30, 7, 30, 17, 7, 22, 14]\n",
      "99\n",
      "0.9339622641509434\n"
     ]
    }
   ],
   "source": [
    "#!pip install --user pandas\n",
    "#!pip install --user numpy\n",
    "#!pip install --user sklearn\n",
    "\n",
    "import csv\n",
    "import pandas as pd\n",
    "import numpy as np\n",
    "from sklearn import svm\n",
    "from sklearn.utils import shuffle\n",
    "\n",
    "df = pandas.read_csv('rec1.csv')\n",
    "#print(df)\n",
    "#print(df.head())\n",
    "\n",
    "data = [[]]\n",
    "label = []\n",
    "\n",
    "for index, row in df.iterrows():\n",
    "    label.append(int(row['Status']))\n",
    "    data.append([row['1A1'], row['1A16'], row['1A19'],row['1A21'],row['1A24'],row['1A3'],row['1A6'],row['1A7'],row['1B15'],row['1B18'],\n",
    "               row['1B21'],row['1B23'],row['1B26'],row['1B30'],row['1B7'],row['1B9'],row['1C11'],row['1C13'],row['1C15'],row['1C18'],\n",
    "               row['1C20'],row['1C23'],row['1C25'],row['1D12'],row['1D20'],row['1D24'],row['1D27'],row['1D30'],row['1D32'],row['1D5'],\n",
    "               row['1D7'],row['1D9'],row['1E1'],row['1E12'],row['1E14'],row['1E17'],row['1E23'],row['1E29'],row['1E3'],row['1E31'],\n",
    "               row['1E6'],row['1EX3'],row['1EX5'],row['1F10'],row['1F14'],row['1F21'],row['1F23'],row['1F28'],row['1F3'],\n",
    "               row['1F31'],row['1F7'],row['1G11'],row['1G13'],row['1G16'],row['1G23'],row['1G25'],row['1G30'],row['1G32'],row['1G8'],\n",
    "               row['1H16'],row['1H19'],row['1H2'],row['1H6'],row['1H9']])\n",
    "    \n",
    "#number of unique labels\n",
    "#print(len(set(list(label))))\n",
    "data.remove([])\n",
    "\n",
    "label, data = shuffle(label,data, random_state=0)\n",
    "#print(label)\n",
    "\n",
    "# partition\n",
    "#validation_data = data[:int(len(data)/8)]\n",
    "#testing_data = data[int(len(data)/8):int(len(data)/4)]\n",
    "testing_data = data[:int(len(data)/4)]\n",
    "training_data = data[int(len(data)/4):]\n",
    "\n",
    "# partition\n",
    "#validation_label = label[:int(len(label)/8)]\n",
    "#testing_label = label[int(len(label)/8):int(len(data)/4)]\n",
    "testing_label = label[:int(len(data)/4)]\n",
    "training_label = label[int(len(label)/4):]\n",
    "\n",
    "'''\n",
    "print(len(validation_data))\n",
    "print(len(testing_data))\n",
    "print(len(training_data))\n",
    "'''\n",
    "\n",
    "clf = svm.SVC(kernel='linear', class_weight='balanced', C=1.0, random_state=0,decision_function_shape='ovo')\n",
    "clf.fit(training_data, training_label)\n",
    "tmp = clf.predict(testing_data)\n",
    "tmp = np.split(tmp,len(tmp),0)\n",
    "result = []\n",
    "for i in range(len(tmp)):\n",
    "    result.append(tmp[i][0])\n",
    "\n",
    "print(testing_label)\n",
    "print(result)\n",
    "\n",
    "acc = 0\n",
    "for i in range(len(testing_label)):\n",
    "    if testing_label[i] == result[i]:\n",
    "        acc+=1\n",
    "print(acc)\n",
    "print(acc/len(testing_label))"
   ]
  },
  {
   "cell_type": "code",
   "execution_count": null,
   "metadata": {},
   "outputs": [],
   "source": []
  },
  {
   "cell_type": "code",
   "execution_count": null,
   "metadata": {},
   "outputs": [],
   "source": []
  }
 ],
 "metadata": {
  "kernelspec": {
   "display_name": "Python 3",
   "language": "python",
   "name": "python3"
  },
  "language_info": {
   "codemirror_mode": {
    "name": "ipython",
    "version": 3
   },
   "file_extension": ".py",
   "mimetype": "text/x-python",
   "name": "python",
   "nbconvert_exporter": "python",
   "pygments_lexer": "ipython3",
   "version": "3.7.3"
  }
 },
 "nbformat": 4,
 "nbformat_minor": 2
}
